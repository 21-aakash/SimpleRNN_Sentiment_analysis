{
 "cells": [
  {
   "cell_type": "code",
   "execution_count": 1,
   "metadata": {},
   "outputs": [],
   "source": [
    "# Step 1: Import Libraries and Load the Model\n",
    "import numpy as np\n",
    "import tensorflow as tf\n",
    "from tensorflow.keras.datasets import imdb\n",
    "from tensorflow.keras.preprocessing import sequence\n",
    "from tensorflow.keras.models import load_model"
   ]
  },
  {
   "cell_type": "code",
   "execution_count": 2,
   "metadata": {},
   "outputs": [],
   "source": [
    "\n",
    "# Load the IMDB dataset word index\n",
    "word_index = imdb.get_word_index()\n",
    "reverse_word_index = {value: key for key, value in word_index.items()}"
   ]
  },
  {
   "cell_type": "code",
   "execution_count": 3,
   "metadata": {},
   "outputs": [
    {
     "name": "stderr",
     "output_type": "stream",
     "text": [
      "WARNING:absl:Compiled the loaded model, but the compiled metrics have yet to be built. `model.compile_metrics` will be empty until you train or evaluate the model.\n"
     ]
    },
    {
     "data": {
      "text/html": [
       "<pre style=\"white-space:pre;overflow-x:auto;line-height:normal;font-family:Menlo,'DejaVu Sans Mono',consolas,'Courier New',monospace\"><span style=\"font-weight: bold\">Model: \"sequential\"</span>\n",
       "</pre>\n"
      ],
      "text/plain": [
       "\u001b[1mModel: \"sequential\"\u001b[0m\n"
      ]
     },
     "metadata": {},
     "output_type": "display_data"
    },
    {
     "data": {
      "text/html": [
       "<pre style=\"white-space:pre;overflow-x:auto;line-height:normal;font-family:Menlo,'DejaVu Sans Mono',consolas,'Courier New',monospace\">┏━━━━━━━━━━━━━━━━━━━━━━━━━━━━━━━━━┳━━━━━━━━━━━━━━━━━━━━━━━━┳━━━━━━━━━━━━━━━┓\n",
       "┃<span style=\"font-weight: bold\"> Layer (type)                    </span>┃<span style=\"font-weight: bold\"> Output Shape           </span>┃<span style=\"font-weight: bold\">       Param # </span>┃\n",
       "┡━━━━━━━━━━━━━━━━━━━━━━━━━━━━━━━━━╇━━━━━━━━━━━━━━━━━━━━━━━━╇━━━━━━━━━━━━━━━┩\n",
       "│ embedding (<span style=\"color: #0087ff; text-decoration-color: #0087ff\">Embedding</span>)           │ (<span style=\"color: #00af00; text-decoration-color: #00af00\">32</span>, <span style=\"color: #00af00; text-decoration-color: #00af00\">500</span>, <span style=\"color: #00af00; text-decoration-color: #00af00\">128</span>)         │     <span style=\"color: #00af00; text-decoration-color: #00af00\">1,280,000</span> │\n",
       "├─────────────────────────────────┼────────────────────────┼───────────────┤\n",
       "│ simple_rnn (<span style=\"color: #0087ff; text-decoration-color: #0087ff\">SimpleRNN</span>)          │ (<span style=\"color: #00af00; text-decoration-color: #00af00\">32</span>, <span style=\"color: #00af00; text-decoration-color: #00af00\">128</span>)              │        <span style=\"color: #00af00; text-decoration-color: #00af00\">32,896</span> │\n",
       "├─────────────────────────────────┼────────────────────────┼───────────────┤\n",
       "│ dense (<span style=\"color: #0087ff; text-decoration-color: #0087ff\">Dense</span>)                   │ (<span style=\"color: #00af00; text-decoration-color: #00af00\">32</span>, <span style=\"color: #00af00; text-decoration-color: #00af00\">1</span>)                │           <span style=\"color: #00af00; text-decoration-color: #00af00\">129</span> │\n",
       "└─────────────────────────────────┴────────────────────────┴───────────────┘\n",
       "</pre>\n"
      ],
      "text/plain": [
       "┏━━━━━━━━━━━━━━━━━━━━━━━━━━━━━━━━━┳━━━━━━━━━━━━━━━━━━━━━━━━┳━━━━━━━━━━━━━━━┓\n",
       "┃\u001b[1m \u001b[0m\u001b[1mLayer (type)                   \u001b[0m\u001b[1m \u001b[0m┃\u001b[1m \u001b[0m\u001b[1mOutput Shape          \u001b[0m\u001b[1m \u001b[0m┃\u001b[1m \u001b[0m\u001b[1m      Param #\u001b[0m\u001b[1m \u001b[0m┃\n",
       "┡━━━━━━━━━━━━━━━━━━━━━━━━━━━━━━━━━╇━━━━━━━━━━━━━━━━━━━━━━━━╇━━━━━━━━━━━━━━━┩\n",
       "│ embedding (\u001b[38;5;33mEmbedding\u001b[0m)           │ (\u001b[38;5;34m32\u001b[0m, \u001b[38;5;34m500\u001b[0m, \u001b[38;5;34m128\u001b[0m)         │     \u001b[38;5;34m1,280,000\u001b[0m │\n",
       "├─────────────────────────────────┼────────────────────────┼───────────────┤\n",
       "│ simple_rnn (\u001b[38;5;33mSimpleRNN\u001b[0m)          │ (\u001b[38;5;34m32\u001b[0m, \u001b[38;5;34m128\u001b[0m)              │        \u001b[38;5;34m32,896\u001b[0m │\n",
       "├─────────────────────────────────┼────────────────────────┼───────────────┤\n",
       "│ dense (\u001b[38;5;33mDense\u001b[0m)                   │ (\u001b[38;5;34m32\u001b[0m, \u001b[38;5;34m1\u001b[0m)                │           \u001b[38;5;34m129\u001b[0m │\n",
       "└─────────────────────────────────┴────────────────────────┴───────────────┘\n"
      ]
     },
     "metadata": {},
     "output_type": "display_data"
    },
    {
     "data": {
      "text/html": [
       "<pre style=\"white-space:pre;overflow-x:auto;line-height:normal;font-family:Menlo,'DejaVu Sans Mono',consolas,'Courier New',monospace\"><span style=\"font-weight: bold\"> Total params: </span><span style=\"color: #00af00; text-decoration-color: #00af00\">1,313,027</span> (5.01 MB)\n",
       "</pre>\n"
      ],
      "text/plain": [
       "\u001b[1m Total params: \u001b[0m\u001b[38;5;34m1,313,027\u001b[0m (5.01 MB)\n"
      ]
     },
     "metadata": {},
     "output_type": "display_data"
    },
    {
     "data": {
      "text/html": [
       "<pre style=\"white-space:pre;overflow-x:auto;line-height:normal;font-family:Menlo,'DejaVu Sans Mono',consolas,'Courier New',monospace\"><span style=\"font-weight: bold\"> Trainable params: </span><span style=\"color: #00af00; text-decoration-color: #00af00\">1,313,025</span> (5.01 MB)\n",
       "</pre>\n"
      ],
      "text/plain": [
       "\u001b[1m Trainable params: \u001b[0m\u001b[38;5;34m1,313,025\u001b[0m (5.01 MB)\n"
      ]
     },
     "metadata": {},
     "output_type": "display_data"
    },
    {
     "data": {
      "text/html": [
       "<pre style=\"white-space:pre;overflow-x:auto;line-height:normal;font-family:Menlo,'DejaVu Sans Mono',consolas,'Courier New',monospace\"><span style=\"font-weight: bold\"> Non-trainable params: </span><span style=\"color: #00af00; text-decoration-color: #00af00\">0</span> (0.00 B)\n",
       "</pre>\n"
      ],
      "text/plain": [
       "\u001b[1m Non-trainable params: \u001b[0m\u001b[38;5;34m0\u001b[0m (0.00 B)\n"
      ]
     },
     "metadata": {},
     "output_type": "display_data"
    },
    {
     "data": {
      "text/html": [
       "<pre style=\"white-space:pre;overflow-x:auto;line-height:normal;font-family:Menlo,'DejaVu Sans Mono',consolas,'Courier New',monospace\"><span style=\"font-weight: bold\"> Optimizer params: </span><span style=\"color: #00af00; text-decoration-color: #00af00\">2</span> (12.00 B)\n",
       "</pre>\n"
      ],
      "text/plain": [
       "\u001b[1m Optimizer params: \u001b[0m\u001b[38;5;34m2\u001b[0m (12.00 B)\n"
      ]
     },
     "metadata": {},
     "output_type": "display_data"
    }
   ],
   "source": [
    "# Load the pre-trained model with ReLU activation\n",
    "model = load_model('simple_rnn_imdb.h5')\n",
    "model.summary()"
   ]
  },
  {
   "cell_type": "code",
   "execution_count": 4,
   "metadata": {},
   "outputs": [
    {
     "data": {
      "text/plain": [
       "[array([[-0.20991553, -0.63451123,  0.26000595, ...,  1.734609  ,\n",
       "          1.977814  ,  0.4615913 ],\n",
       "        [ 0.0029941 , -0.08720627, -0.05688791, ...,  0.03766325,\n",
       "          0.06631411,  0.03165058],\n",
       "        [ 0.06074818,  0.01357536, -0.06366694, ...,  0.04667659,\n",
       "         -0.06031172, -0.02520946],\n",
       "        ...,\n",
       "        [-0.07777014, -0.02768426, -0.06517012, ...,  0.04348912,\n",
       "         -0.05051766,  0.09838202],\n",
       "        [ 0.06408728,  0.07124174,  0.10379139, ..., -0.07637569,\n",
       "          0.058334  , -0.1051676 ],\n",
       "        [-0.03638065, -0.10644072,  0.0505232 , ...,  0.02078113,\n",
       "         -0.01876374,  0.05267758]], dtype=float32),\n",
       " array([[ 0.11909845,  0.05290243, -0.10411459, ...,  0.08885624,\n",
       "         -0.08539468,  0.1402941 ],\n",
       "        [ 0.07374188, -0.16437277,  0.04569194, ...,  0.1188706 ,\n",
       "          0.060138  ,  0.02560026],\n",
       "        [ 0.05768759,  0.03176689, -0.16850163, ...,  0.16104539,\n",
       "         -0.0307554 , -0.0210594 ],\n",
       "        ...,\n",
       "        [-0.11298501, -0.14045107, -0.00399388, ...,  0.06477638,\n",
       "         -0.07836   ,  0.08562351],\n",
       "        [-0.08230076,  0.01329469, -0.11023978, ...,  0.0070347 ,\n",
       "          0.12361724, -0.07541877],\n",
       "        [ 0.10442477, -0.11243582,  0.05705196, ..., -0.0855994 ,\n",
       "          0.00683946, -0.02428649]], dtype=float32),\n",
       " array([[-0.01461071,  0.1254629 , -0.09353602, ..., -0.02086411,\n",
       "         -0.21863972,  0.01983111],\n",
       "        [-0.04765723,  0.06404151, -0.01399085, ...,  0.02151132,\n",
       "          0.08228448, -0.14640532],\n",
       "        [-0.0148494 ,  0.06641451, -0.10683672, ...,  0.07045452,\n",
       "          0.12896425,  0.03685866],\n",
       "        ...,\n",
       "        [-0.05170786, -0.07101084, -0.01037978, ..., -0.02720854,\n",
       "         -0.03858934,  0.00553633],\n",
       "        [-0.16222014, -0.02587665, -0.05360494, ..., -0.0131428 ,\n",
       "          0.00229413, -0.05908486],\n",
       "        [-0.07785942, -0.04986004,  0.00863128, ..., -0.20454732,\n",
       "         -0.07355172, -0.06633644]], dtype=float32),\n",
       " array([ 0.03838503, -0.03768176,  0.02201771,  0.0133081 ,  0.02965456,\n",
       "        -0.03315156,  0.04373436,  0.04827052, -0.0355057 , -0.02163408,\n",
       "        -0.03520077, -0.01879604, -0.04128709, -0.02953083,  0.0095525 ,\n",
       "        -0.02055177, -0.01830167,  0.02960261,  0.04957787, -0.03116583,\n",
       "         0.04266177, -0.04878774, -0.05966455, -0.03336601,  0.03018766,\n",
       "        -0.01617446, -0.03861916, -0.03959341,  0.01320509,  0.01757584,\n",
       "         0.03573939,  0.00951466, -0.04998006, -0.00217632, -0.03126125,\n",
       "        -0.04902082,  0.01329107,  0.02841532, -0.01727959,  0.02845893,\n",
       "        -0.03429331, -0.04773221, -0.0212439 ,  0.00525413,  0.00565853,\n",
       "        -0.01483599,  0.06235912, -0.01493567,  0.01320977,  0.01098967,\n",
       "        -0.02793919,  0.02944117, -0.02005989, -0.01594978, -0.00072163,\n",
       "        -0.05393798, -0.03237718,  0.023416  , -0.02340385,  0.01647531,\n",
       "         0.02685223, -0.0342684 , -0.02432309, -0.03267965,  0.04160357,\n",
       "        -0.0028195 ,  0.03754926,  0.01989134, -0.01243755,  0.00054048,\n",
       "        -0.0297073 , -0.03962463, -0.02573705,  0.00996658, -0.04413923,\n",
       "        -0.02343946,  0.04154785, -0.03181092, -0.03539241,  0.01872995,\n",
       "        -0.02557163, -0.0339824 , -0.02116862,  0.00503996, -0.0067655 ,\n",
       "        -0.01018464, -0.01362701, -0.05452389,  0.02902527, -0.01446236,\n",
       "        -0.00416833, -0.00240978, -0.0065583 ,  0.00104958, -0.00011685,\n",
       "        -0.0411103 ,  0.02787364,  0.00546065, -0.01847451, -0.03035614,\n",
       "        -0.02989498, -0.01699979,  0.02457607,  0.03426407,  0.02057187,\n",
       "        -0.04022945,  0.04550324, -0.04945668, -0.01642489,  0.02578722,\n",
       "         0.02791824,  0.01700486, -0.02206971,  0.01864905,  0.03897448,\n",
       "         0.04118983,  0.0276186 ,  0.02552442, -0.02195707,  0.01747578,\n",
       "         0.03516473,  0.00520009, -0.03172746, -0.02854382,  0.01963754,\n",
       "        -0.04630357, -0.01580733,  0.02362347], dtype=float32),\n",
       " array([[-0.01870142],\n",
       "        [-0.02341488],\n",
       "        [-0.06245781],\n",
       "        [ 0.01208081],\n",
       "        [ 0.5441495 ],\n",
       "        [ 0.00827404],\n",
       "        [-0.12268253],\n",
       "        [-0.19569553],\n",
       "        [ 0.25645238],\n",
       "        [-0.68773425],\n",
       "        [ 0.09825058],\n",
       "        [ 0.09389389],\n",
       "        [ 0.12475189],\n",
       "        [ 0.32150882],\n",
       "        [ 0.10957061],\n",
       "        [ 0.26894835],\n",
       "        [ 0.5246341 ],\n",
       "        [ 0.02191454],\n",
       "        [-0.15740837],\n",
       "        [-0.21554314],\n",
       "        [ 0.18077996],\n",
       "        [ 0.2066334 ],\n",
       "        [ 0.0324092 ],\n",
       "        [-0.04776335],\n",
       "        [ 0.06524248],\n",
       "        [ 0.17139556],\n",
       "        [ 0.21434008],\n",
       "        [ 0.23257908],\n",
       "        [-0.0567075 ],\n",
       "        [ 0.05444727],\n",
       "        [-0.05900679],\n",
       "        [ 0.12536603],\n",
       "        [-0.1510994 ],\n",
       "        [ 0.30699363],\n",
       "        [ 0.25881737],\n",
       "        [-0.07818171],\n",
       "        [-0.08926732],\n",
       "        [-0.05492792],\n",
       "        [ 0.35521784],\n",
       "        [-0.20271829],\n",
       "        [ 0.36896786],\n",
       "        [-0.1044839 ],\n",
       "        [-0.18589987],\n",
       "        [ 0.17998695],\n",
       "        [-0.10267671],\n",
       "        [ 0.04856767],\n",
       "        [-0.14185101],\n",
       "        [-0.06098691],\n",
       "        [ 0.11891877],\n",
       "        [ 0.13595796],\n",
       "        [ 0.19655304],\n",
       "        [-0.09696133],\n",
       "        [ 0.11829252],\n",
       "        [ 0.32125604],\n",
       "        [ 0.06547254],\n",
       "        [ 0.19716123],\n",
       "        [ 0.29989403],\n",
       "        [-0.1822666 ],\n",
       "        [ 0.09201532],\n",
       "        [ 0.03906757],\n",
       "        [ 0.03127383],\n",
       "        [ 0.06624617],\n",
       "        [ 0.15907541],\n",
       "        [ 0.21130764],\n",
       "        [-0.17113324],\n",
       "        [-0.16210392],\n",
       "        [-0.19827105],\n",
       "        [ 0.17299905],\n",
       "        [ 0.12369832],\n",
       "        [-0.18520132],\n",
       "        [ 0.14789495],\n",
       "        [ 0.01091266],\n",
       "        [-0.09383847],\n",
       "        [ 0.1901031 ],\n",
       "        [ 0.05914317],\n",
       "        [-0.11666667],\n",
       "        [ 0.09139618],\n",
       "        [ 0.1616928 ],\n",
       "        [ 0.17794397],\n",
       "        [ 0.12021112],\n",
       "        [ 0.06239417],\n",
       "        [ 0.1681114 ],\n",
       "        [-0.14617732],\n",
       "        [ 0.23264226],\n",
       "        [-0.12308841],\n",
       "        [-0.16479538],\n",
       "        [ 0.07126915],\n",
       "        [-0.06231741],\n",
       "        [ 0.21195638],\n",
       "        [-0.21155992],\n",
       "        [-0.2222692 ],\n",
       "        [ 0.0732651 ],\n",
       "        [-0.23615967],\n",
       "        [-0.18414633],\n",
       "        [ 0.39200488],\n",
       "        [ 0.08770461],\n",
       "        [-0.05315211],\n",
       "        [ 0.16856211],\n",
       "        [-0.20317908],\n",
       "        [-0.00760492],\n",
       "        [-0.18812725],\n",
       "        [ 0.37566763],\n",
       "        [ 0.13157754],\n",
       "        [ 0.18079521],\n",
       "        [ 0.33948523],\n",
       "        [ 0.22659607],\n",
       "        [ 0.06620172],\n",
       "        [ 0.03639473],\n",
       "        [-0.02782512],\n",
       "        [-0.2162878 ],\n",
       "        [ 0.7682756 ],\n",
       "        [ 0.61568296],\n",
       "        [ 0.13918886],\n",
       "        [ 0.35870188],\n",
       "        [-0.11994934],\n",
       "        [-0.05938506],\n",
       "        [ 0.00574957],\n",
       "        [-0.12094894],\n",
       "        [ 0.10337596],\n",
       "        [ 0.510169  ],\n",
       "        [-0.03871043],\n",
       "        [ 0.07271349],\n",
       "        [ 0.04301725],\n",
       "        [ 0.09237546],\n",
       "        [-0.06853449],\n",
       "        [ 0.20572598],\n",
       "        [-0.05498266],\n",
       "        [ 0.11077423]], dtype=float32),\n",
       " array([0.7026076], dtype=float32)]"
      ]
     },
     "execution_count": 4,
     "metadata": {},
     "output_type": "execute_result"
    }
   ],
   "source": [
    "model.get_weights()"
   ]
  },
  {
   "cell_type": "code",
   "execution_count": 5,
   "metadata": {},
   "outputs": [],
   "source": [
    "# Step 2: Helper Functions\n",
    "# Function to decode reviews\n",
    "def decode_review(encoded_review):\n",
    "    return ' '.join([reverse_word_index.get(i - 3, '?') for i in encoded_review])\n",
    "\n",
    "# Function to preprocess user input\n",
    "def preprocess_text(text):\n",
    "    words = text.lower().split()\n",
    "    encoded_review = [word_index.get(word, 2) + 3 for word in words]\n",
    "    padded_review = sequence.pad_sequences([encoded_review], maxlen=500)\n",
    "    return padded_review"
   ]
  },
  {
   "cell_type": "code",
   "execution_count": 6,
   "metadata": {},
   "outputs": [],
   "source": [
    "## Prediction fun\n",
    "\n",
    "\n",
    "def predict_sentiment(review):\n",
    "    preprocessed_input=preprocess_text(review)\n",
    "\n",
    "    prediction=model.predict(preprocessed_input)\n",
    "\n",
    "    sentiment = 'Positive' if prediction[0][0] > 0.5 else 'Negative'\n",
    "    \n",
    "    return sentiment, prediction[0][0]\n",
    "\n"
   ]
  },
  {
   "cell_type": "code",
   "execution_count": 7,
   "metadata": {},
   "outputs": [
    {
     "name": "stdout",
     "output_type": "stream",
     "text": [
      "\u001b[1m1/1\u001b[0m \u001b[32m━━━━━━━━━━━━━━━━━━━━\u001b[0m\u001b[37m\u001b[0m \u001b[1m0s\u001b[0m 166ms/step\n",
      "Review: This movie was fantastic! The acting was great and the plot was thrilling.\n",
      "Sentiment: Positive\n",
      "Prediction Score: 0.6635518074035645\n"
     ]
    }
   ],
   "source": [
    "# Step 4: User Input and Prediction\n",
    "# Example review for prediction\n",
    "example_review = \"This movie was fantastic! The acting was great and the plot was thrilling.\"\n",
    "\n",
    "sentiment,score=predict_sentiment(example_review)\n",
    "\n",
    "print(f'Review: {example_review}')\n",
    "print(f'Sentiment: {sentiment}')\n",
    "print(f'Prediction Score: {score}')"
   ]
  },
  {
   "cell_type": "code",
   "execution_count": null,
   "metadata": {},
   "outputs": [],
   "source": []
  }
 ],
 "metadata": {
  "kernelspec": {
   "display_name": "Python 3",
   "language": "python",
   "name": "python3"
  },
  "language_info": {
   "codemirror_mode": {
    "name": "ipython",
    "version": 3
   },
   "file_extension": ".py",
   "mimetype": "text/x-python",
   "name": "python",
   "nbconvert_exporter": "python",
   "pygments_lexer": "ipython3",
   "version": "3.12.0"
  }
 },
 "nbformat": 4,
 "nbformat_minor": 2
}
